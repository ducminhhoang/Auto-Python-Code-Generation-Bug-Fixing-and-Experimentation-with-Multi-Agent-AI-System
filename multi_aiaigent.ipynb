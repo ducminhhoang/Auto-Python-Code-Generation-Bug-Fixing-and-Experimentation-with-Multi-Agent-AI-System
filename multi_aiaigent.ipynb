{
  "nbformat": 4,
  "nbformat_minor": 0,
  "metadata": {
    "colab": {
      "provenance": []
    },
    "kernelspec": {
      "name": "python3",
      "display_name": "Python 3"
    },
    "language_info": {
      "name": "python"
    }
  },
  "cells": [
    {
      "cell_type": "markdown",
      "source": [
        "# Agent Codes, Runs and Fixes Bugs Automatically Based on User Prompt"
      ],
      "metadata": {
        "id": "F0EFJESXu0sW"
      }
    },
    {
      "cell_type": "markdown",
      "source": [
        "**Objective**: Develop a Multi-Agent AI system that generates code based on user prompts, runs experiments, and fixes bugs in Python code as needed.\n",
        "\n",
        "**Technologies Used**: Langchain, Langgraph, Gemini API, DuckDuckGo Search"
      ],
      "metadata": {
        "id": "Ji-5GkZqvbY5"
      }
    },
    {
      "cell_type": "code",
      "execution_count": 1,
      "metadata": {
        "colab": {
          "base_uri": "https://localhost:8080/"
        },
        "id": "kFapSDmPuLj_",
        "outputId": "09377393-2da4-492b-e21a-8e66ec185e75"
      },
      "outputs": [
        {
          "output_type": "stream",
          "name": "stdout",
          "text": [
            "\u001b[2K     \u001b[90m━━━━━━━━━━━━━━━━━━━━━━━━━━━━━━━━━━━━━━━━\u001b[0m \u001b[32m42.5/42.5 kB\u001b[0m \u001b[31m1.6 MB/s\u001b[0m eta \u001b[36m0:00:00\u001b[0m\n",
            "\u001b[2K     \u001b[90m━━━━━━━━━━━━━━━━━━━━━━━━━━━━━━━━━━━━━━━━\u001b[0m \u001b[32m48.2/48.2 kB\u001b[0m \u001b[31m1.2 MB/s\u001b[0m eta \u001b[36m0:00:00\u001b[0m\n",
            "\u001b[2K   \u001b[90m━━━━━━━━━━━━━━━━━━━━━━━━━━━━━━━━━━━━━━━━\u001b[0m \u001b[32m1.0/1.0 MB\u001b[0m \u001b[31m15.5 MB/s\u001b[0m eta \u001b[36m0:00:00\u001b[0m\n",
            "\u001b[2K   \u001b[90m━━━━━━━━━━━━━━━━━━━━━━━━━━━━━━━━━━━━━━━━\u001b[0m \u001b[32m2.3/2.3 MB\u001b[0m \u001b[31m23.4 MB/s\u001b[0m eta \u001b[36m0:00:00\u001b[0m\n",
            "\u001b[2K   \u001b[90m━━━━━━━━━━━━━━━━━━━━━━━━━━━━━━━━━━━━━━━━\u001b[0m \u001b[32m52.0/52.0 kB\u001b[0m \u001b[31m1.9 MB/s\u001b[0m eta \u001b[36m0:00:00\u001b[0m\n",
            "\u001b[2K   \u001b[90m━━━━━━━━━━━━━━━━━━━━━━━━━━━━━━━━━━━━━━━━\u001b[0m \u001b[32m96.8/96.8 kB\u001b[0m \u001b[31m4.3 MB/s\u001b[0m eta \u001b[36m0:00:00\u001b[0m\n",
            "\u001b[2K   \u001b[90m━━━━━━━━━━━━━━━━━━━━━━━━━━━━━━━━━━━━━━━━\u001b[0m \u001b[32m290.0/290.0 kB\u001b[0m \u001b[31m10.7 MB/s\u001b[0m eta \u001b[36m0:00:00\u001b[0m\n",
            "\u001b[2K   \u001b[90m━━━━━━━━━━━━━━━━━━━━━━━━━━━━━━━━━━━━━━━━\u001b[0m \u001b[32m59.5/59.5 kB\u001b[0m \u001b[31m3.4 MB/s\u001b[0m eta \u001b[36m0:00:00\u001b[0m\n",
            "\u001b[2K   \u001b[90m━━━━━━━━━━━━━━━━━━━━━━━━━━━━━━━━━━━━━━━━\u001b[0m \u001b[32m5.6/5.6 MB\u001b[0m \u001b[31m22.1 MB/s\u001b[0m eta \u001b[36m0:00:00\u001b[0m\n",
            "\u001b[2K   \u001b[90m━━━━━━━━━━━━━━━━━━━━━━━━━━━━━━━━━━━━━━━━\u001b[0m \u001b[32m164.2/164.2 kB\u001b[0m \u001b[31m11.5 MB/s\u001b[0m eta \u001b[36m0:00:00\u001b[0m\n",
            "\u001b[2K   \u001b[90m━━━━━━━━━━━━━━━━━━━━━━━━━━━━━━━━━━━━━━━━\u001b[0m \u001b[32m718.3/718.3 kB\u001b[0m \u001b[31m14.6 MB/s\u001b[0m eta \u001b[36m0:00:00\u001b[0m\n",
            "\u001b[2K   \u001b[90m━━━━━━━━━━━━━━━━━━━━━━━━━━━━━━━━━━━━━━━━\u001b[0m \u001b[32m397.1/397.1 kB\u001b[0m \u001b[31m6.4 MB/s\u001b[0m eta \u001b[36m0:00:00\u001b[0m\n",
            "\u001b[2K   \u001b[90m━━━━━━━━━━━━━━━━━━━━━━━━━━━━━━━━━━━━━━━━\u001b[0m \u001b[32m3.3/3.3 MB\u001b[0m \u001b[31m17.3 MB/s\u001b[0m eta \u001b[36m0:00:00\u001b[0m\n",
            "\u001b[2K   \u001b[90m━━━━━━━━━━━━━━━━━━━━━━━━━━━━━━━━━━━━━━━━\u001b[0m \u001b[32m2.9/2.9 MB\u001b[0m \u001b[31m19.7 MB/s\u001b[0m eta \u001b[36m0:00:00\u001b[0m\n",
            "\u001b[2K   \u001b[90m━━━━━━━━━━━━━━━━━━━━━━━━━━━━━━━━━━━━━━━━\u001b[0m \u001b[32m1.2/1.2 MB\u001b[0m \u001b[31m29.4 MB/s\u001b[0m eta \u001b[36m0:00:00\u001b[0m\n",
            "\u001b[2K   \u001b[90m━━━━━━━━━━━━━━━━━━━━━━━━━━━━━━━━━━━━━━━━\u001b[0m \u001b[32m50.9/50.9 kB\u001b[0m \u001b[31m3.1 MB/s\u001b[0m eta \u001b[36m0:00:00\u001b[0m\n",
            "\u001b[?25h"
          ]
        }
      ],
      "source": [
        "!pip install --upgrade --quiet langchain==0.2.16 langchain-community==0.2.16 langchain-openai==0.1.23 langgraph==0.2.18 langsmith==0.1.114 pdfplumber python-dotenv langchain-google-genai duckduckgo-search -q"
      ]
    },
    {
      "cell_type": "code",
      "source": [
        "import subprocess # run cmd\n",
        "import shlex\n",
        "# agent create\n",
        "from langgraph.graph import StateGraph, END, START\n",
        "from langchain_google_genai import ChatGoogleGenerativeAI\n",
        "from langchain.schema import SystemMessage, HumanMessage\n",
        "from dotenv import load_dotenv\n",
        "from typing import Dict, TypedDict\n",
        "from langchain.tools import BaseTool, StructuredTool, tool\n",
        "from langchain.agents import create_tool_calling_agent\n",
        "from langchain.agents import AgentExecutor\n",
        "from langchain_core.prompts import ChatPromptTemplate\n",
        "from langchain_community.tools import DuckDuckGoSearchResults #searching tools\n",
        "import os\n",
        "import re\n",
        "from tenacity import retry, stop_after_attempt, wait_fixed"
      ],
      "metadata": {
        "id": "SX_FNCUBuYt-"
      },
      "execution_count": 2,
      "outputs": []
    },
    {
      "cell_type": "markdown",
      "source": [
        "**State** plays a crucial role in determining the objects stored in the shared memory between agents.\n",
        "\n",
        "Define State:\n",
        "\n",
        "- **Prompt**: Stores the user's request or input.\n",
        "- **File_path**: Stores the generated code file.\n",
        "- **Output**: Stores the result of the execution process."
      ],
      "metadata": {
        "id": "2VA3RtQGwoEh"
      }
    },
    {
      "cell_type": "code",
      "source": [
        "load_dotenv()\n",
        "# Khởi tạo Gemini API (thay YOUR_GEMINI_API_KEY bằng key của bạn)\n",
        "llm = ChatGoogleGenerativeAI(model=\"learnlm-1.5-pro-experimental\",\n",
        "                             verbose=True,\n",
        "                             temperature=0.5,\n",
        "                             google_api_key=os.getenv(\"GOOGLE_API_KEY\"))"
      ],
      "metadata": {
        "id": "owJUFDOJuuov"
      },
      "execution_count": 30,
      "outputs": []
    },
    {
      "cell_type": "code",
      "source": [
        "class State(TypedDict):\n",
        "    prompt: str\n",
        "    file_path: str\n",
        "    output: str"
      ],
      "metadata": {
        "id": "7VfGF0GixbHT"
      },
      "execution_count": 6,
      "outputs": []
    },
    {
      "cell_type": "code",
      "source": [
        "# Importing message types and utilities from langchain_core:\n",
        "# AIMessage, HumanMessage, SystemMessage: Define different types of messages in a conversation.\n",
        "# trim_messages: Utility to manage and limit the number of messages in a conversation history.\n",
        "from langchain_core.messages import AIMessage, HumanMessage, SystemMessage, trim_messages\n",
        "\n",
        "def trim_conversation(prompt):\n",
        "    \"\"\"Trims conversation history to retain only the latest messages within the limit.\"\"\"\n",
        "    max_messages = 10  # Limit the conversation history to the latest 10 messages\n",
        "    return trim_messages(\n",
        "        prompt,\n",
        "        max_tokens=max_messages,  # Specifies the maximum number of messages allowed\n",
        "        strategy=\"last\",  # Trimming strategy to keep the last messages\n",
        "        token_counter=len,  # Counts tokens/messages using the length of the list\n",
        "        start_on=\"human\",  # Start trimming when reaching the first human message\n",
        "        include_system=True,  # Include system messages in the trimmed history\n",
        "        allow_partial=False,  # Ensures only whole messages are included\n",
        "    )\n"
      ],
      "metadata": {
        "id": "2rsc8kbhytZ1"
      },
      "execution_count": 7,
      "outputs": []
    },
    {
      "cell_type": "markdown",
      "source": [
        "### Define custom Tools"
      ],
      "metadata": {
        "id": "xZtaQGRAy5I-"
      }
    },
    {
      "cell_type": "code",
      "source": [
        "@tool\n",
        "def run_command(command: str) -> str:\n",
        "    \"\"\"Executes a shell command and returns its output.\"\"\"\n",
        "    result = subprocess.run(shlex.split(command), shell=True, capture_output=True, text=True)\n",
        "    return (result.stdout or \"\") + (result.stderr or \"\")\n",
        "\n",
        "@tool\n",
        "def save_file_python(code: str, file_path: str) -> bool:\n",
        "    \"\"\"Save the python code on local and return save state.\"\"\"\n",
        "    try:\n",
        "        with open(file_path, \"w\", encoding=\"utf-8\") as file:\n",
        "            file.write(code)\n",
        "        print(f\"Code saved successfully to '{file_path}'\")\n",
        "        return True\n",
        "    except Exception as e:\n",
        "        print(f\"An error occurred while saving the code: {e}\")\n",
        "        return False\n",
        "\n",
        "@tool\n",
        "def read_file_python(file_path: str) -> str:\n",
        "    \"\"\"Read code in a python file and return code in file on local.\"\"\"\n",
        "    try:\n",
        "        with open(file_path, 'r', encoding='utf-8') as file:\n",
        "            file_content = file.read()\n",
        "        return file_content\n",
        "    except FileNotFoundError:\n",
        "        print(f\"Error: File '{file_path}' not found.\")\n",
        "        return \"\""
      ],
      "metadata": {
        "id": "DPbonIFHyygV"
      },
      "execution_count": 8,
      "outputs": []
    },
    {
      "cell_type": "markdown",
      "source": [
        "### Route Agent\n",
        "\n",
        "The **`route_results`** function is responsible for directing the code either to the bug-fix agent or marking it as completed.\n"
      ],
      "metadata": {
        "id": "AZ_hBpTszNve"
      }
    },
    {
      "cell_type": "code",
      "source": [
        "def route_result(state: State):\n",
        "    try:\n",
        "        if \"error\" in state[\"output\"].lower():\n",
        "            return \"fix_bug\"\n",
        "        else:\n",
        "            return \"end\"\n",
        "    except:\n",
        "        return \"end\""
      ],
      "metadata": {
        "id": "_D0eN47lzDOV"
      },
      "execution_count": 9,
      "outputs": []
    },
    {
      "cell_type": "markdown",
      "source": [
        "### Define Agents\n",
        "\n",
        "\n",
        "Define Agent:\n",
        "\n",
        "- **Code Generation Agent**: Generates code based on user prompts.\n",
        "- **Execution Agent**: Executes the code and installs necessary libraries.\n",
        "- **Bug-Fixing Agent**: Identifies and fixes bugs in the code."
      ],
      "metadata": {
        "id": "ESkIB00kz0O-"
      }
    },
    {
      "cell_type": "code",
      "source": [
        "def generate_python_code(query):\n",
        "    \"\"\"Generate Python code from prompt using Gemini API\"\"\"\n",
        "    system_prompt = \"You are an AI assistant that generates accurate and optimized Python code. Do not respond to unrelated requests. After generating accurate and clean code, save it locally. Finally, return the file path as output.\"\n",
        "    prompt = ChatPromptTemplate.from_messages([(\"system\", system_prompt),\n",
        "            (\"placeholder\", \"{chat_history}\"),\n",
        "            (\"human\", \"{input}\"),\n",
        "            (\"placeholder\", \"{agent_scratchpad}\"),])\n",
        "\n",
        "    agent = create_tool_calling_agent(llm, [save_file_python], prompt)\n",
        "    agent_executor = AgentExecutor(agent=agent, tools=[save_file_python], verbose=True)\n",
        "    response = agent_executor.invoke({\"input\": query})\n",
        "    return response.get('output')"
      ],
      "metadata": {
        "id": "gZSXM-2Kz1dm"
      },
      "execution_count": 10,
      "outputs": []
    },
    {
      "cell_type": "code",
      "source": [
        "def run_python_code(file):\n",
        "    \"\"\"Run Python code using subprocess\"\"\"\n",
        "    system_prompt = \"\"\"You are an expert at running Python code on the Windows command line with accuracy and responsibility. Given a Python file, read the code in the file, install the necessary libraries via pip, and then run the code. Only return the command line output as the result.\n",
        "Example: UnicodeDecodeError: 'charmap' codec can't decode byte 0x9d in position 42: character maps to <undefined>\n",
        "    \"\"\"\n",
        "\n",
        "    query = f\"Successfully run this Python file locally. Here is the local file path: {file}.\"\n",
        "\n",
        "\n",
        "    prompt = ChatPromptTemplate.from_messages([(\"system\", system_prompt),\n",
        "            (\"placeholder\", \"{chat_history}\"),\n",
        "            (\"human\", \"{input}\"),\n",
        "            (\"placeholder\", \"{agent_scratchpad}\"),])\n",
        "\n",
        "    agent = create_tool_calling_agent(llm, [run_command, read_file_python], prompt)\n",
        "    agent_executor = AgentExecutor(agent=agent, tools=[run_command, read_file_python], verbose=True)\n",
        "    response = agent_executor.invoke({\"input\": query})\n",
        "    return response.get('output')"
      ],
      "metadata": {
        "id": "cer3-3Vh0Oj_"
      },
      "execution_count": 12,
      "outputs": []
    },
    {
      "cell_type": "code",
      "source": [
        "def fixbug(query, file, error):\n",
        "    \"\"\"Fix bugs in Python code\"\"\"\n",
        "    system_prompt = f\"\"\"You are a highly experienced, meticulous, and accurate bug-fixing expert.\n",
        "You are familiar with the following environment: notebook colab with CPU.\n",
        "You will receive the code file with the path {file}, read the code, and the current errors in the code.\n",
        "The original user request is {query}.\n",
        "Analyze and find the best way to fix the error. Edit the file, save it, and run the command to install any necessary libraries (if required) and execute the saved code to test it.\n",
        "If no errors are fixed, return 'Complete' as the only output. If new errors occur, return the error message displayed from the command line as the output.\"\"\"\n",
        "    tools = [\n",
        "        DuckDuckGoSearchResults(name=\"search_tool\"),\n",
        "        run_command,\n",
        "        save_file_python,\n",
        "        read_file_python\n",
        "    ]\n",
        "    try_count = 0\n",
        "    while True:\n",
        "        e = f\"Fix the current error: {error}\"\n",
        "        prompt = ChatPromptTemplate.from_messages([(\"system\", system_prompt),\n",
        "                (\"placeholder\", \"{chat_history}\"),\n",
        "                (\"human\", \"{input}\"),\n",
        "                (\"placeholder\", \"{agent_scratchpad}\"),])\n",
        "\n",
        "        agent = create_tool_calling_agent(llm, tools, prompt)\n",
        "        agent_executor = AgentExecutor(agent=agent, tools=tools, verbose=True)\n",
        "        response = agent_executor.invoke({\"input\": e})\n",
        "\n",
        "        if 'complete' in response.get(\"output\").lower():\n",
        "            break\n",
        "        error = response.get(\"output\")\n",
        "        try_count += 1\n",
        "        if try_count > 10:\n",
        "            break\n",
        "    return response.get('output')"
      ],
      "metadata": {
        "id": "bWlk4jU10gXn"
      },
      "execution_count": 28,
      "outputs": []
    },
    {
      "cell_type": "code",
      "source": [
        "# Xây dựng LangGraph\n",
        "class CodeAgent:\n",
        "    def __init__(self):\n",
        "        self.workflow = StateGraph(State)\n",
        "\n",
        "\n",
        "        self.workflow.add_node(\"generate\", self.generate_code)\n",
        "        self.workflow.add_node(\"execute\", self.execute_code)\n",
        "        self.workflow.add_node(\"fix_bug\", self.fix_bug_agent)\n",
        "\n",
        "        self.workflow.add_edge(START, \"generate\")\n",
        "        self.workflow.add_edge(\"generate\", \"execute\")\n",
        "        self.workflow.add_conditional_edges(\n",
        "            \"execute\",\n",
        "            route_result,\n",
        "            {\n",
        "                \"fix_bug\": \"fix_bug\",\n",
        "                \"end\": END\n",
        "            }\n",
        "        )\n",
        "        self.workflow.add_edge(\"fix_bug\", END)\n",
        "\n",
        "        self.workflow.set_entry_point(\"generate\")\n",
        "        self.app = self.workflow.compile()\n",
        "\n",
        "    def generate_code(self, state: State) -> State:\n",
        "        state[\"file_path\"] = generate_python_code(state[\"prompt\"])\n",
        "        return state\n",
        "\n",
        "    def execute_code(self, state: State) -> State:\n",
        "        state[\"output\"] = run_python_code(state[\"file_path\"])\n",
        "        return state\n",
        "\n",
        "    def fix_bug_agent(self, state: State) -> State:\n",
        "        state[\"output\"] = fixbug(state[\"prompt\"], state[\"file_path\"], state[\"output\"])\n",
        "        return state\n",
        "\n",
        "    @retry(stop=stop_after_attempt(3), wait=wait_fixed(2))  # Thử lại tối đa 3 lần, chờ 2s mỗi lần\n",
        "    def run(self, prompt):\n",
        "        return self.app.invoke({\"prompt\": prompt})"
      ],
      "metadata": {
        "id": "YM_ReYbQ1A_X"
      },
      "execution_count": 24,
      "outputs": []
    },
    {
      "cell_type": "markdown",
      "source": [
        "### Lets Visualize our graph\n",
        "- Displaying Workflow Graph:\n",
        "\n",
        "  - Generates a visual representation of the app workflow graph using Mermaid, which is then displayed as a PNG image.\n",
        "  - The MermaidDrawMethod.API method is used to create the PNG, ensuring a clear, structured view of the workflow nodes and their connections."
      ],
      "metadata": {
        "id": "_ZjN_2pi1_KI"
      }
    },
    {
      "cell_type": "code",
      "source": [
        "from IPython.display import display, Image\n",
        "from langchain_core.runnables.graph import MermaidDrawMethod # to visualize the graph of langgraph node and edges\n",
        "\n",
        "agent = CodeAgent()\n",
        "# Display the workflow graph as a PNG image using Mermaid\n",
        "display(\n",
        "    Image(\n",
        "        agent.app.get_graph().draw_mermaid_png(\n",
        "            draw_method=MermaidDrawMethod.API,  # Uses Mermaid's API to generate the PNG image of the workflow graph\n",
        "        )\n",
        "    )\n",
        ")"
      ],
      "metadata": {
        "colab": {
          "base_uri": "https://localhost:8080/",
          "height": 449
        },
        "id": "tDRQFSdy1fF3",
        "outputId": "605bf902-42f6-479d-d018-6410fd99c73f"
      },
      "execution_count": 31,
      "outputs": [
        {
          "output_type": "display_data",
          "data": {
            "image/jpeg": "[encoded data removed]",
            "text/plain": [
              "<IPython.core.display.Image object>"
            ]
          },
          "metadata": {}
        }
      ]
    },
    {
      "cell_type": "markdown",
      "source": [
        "### Test"
      ],
      "metadata": {
        "id": "5DOdg1rf1VfP"
      }
    },
    {
      "cell_type": "code",
      "source": [
        "user_prompt = input(\"Enter your request for code Python: \")\n",
        "result = agent.run(user_prompt)\n",
        "print(\"\\nGenerated Code:\\n\", result[\"file_path\"])\n",
        "print(\"\\nExecution Output:\\n\", result[\"output\"])"
      ],
      "metadata": {
        "colab": {
          "base_uri": "https://localhost:8080/"
        },
        "id": "oyuBTQve1UI3",
        "outputId": "7b4046f3-ab65-4919-b6b3-64821bcc56d8"
      },
      "execution_count": 32,
      "outputs": [
        {
          "name": "stdout",
          "output_type": "stream",
          "text": [
            "Enter your request for code Python: Code hình trái tim và hiển thị \n"
          ]
        },
        {
          "output_type": "stream",
          "name": "stderr",
          "text": [
            "WARNING:langchain_google_genai._function_utils:Key 'title' is not supported in schema, ignoring\n",
            "WARNING:langchain_google_genai._function_utils:Key 'title' is not supported in schema, ignoring\n",
            "WARNING:langchain_google_genai._function_utils:Key 'title' is not supported in schema, ignoring\n"
          ]
        },
        {
          "output_type": "stream",
          "name": "stdout",
          "text": [
            "\n",
            "\n",
            "\u001b[1m> Entering new AgentExecutor chain...\u001b[0m\n",
            "\u001b[32;1m\u001b[1;3m\n",
            "Invoking: `save_file_python` with `{'file_path': 'heart.py', 'code': \"import turtle\\n\\npen = turtle.Turtle()\\n\\npen.fillcolor('red')\\npen.begin_fill()\\npen.left(140)\\npen.forward(180)\\npen.circle(-90, 200)\\npen.setheading(60)\\npen.circle(-90, 200)\\npen.forward(180)\\npen.end_fill()\\n\\npen.hideturtle()\\n\\nturtle.done()\\n\"}`\n",
            "\n",
            "\n",
            "\u001b[0mCode saved successfully to 'heart.py'\n",
            "\u001b[36;1m\u001b[1;3mTrue\u001b[0m"
          ]
        },
        {
          "output_type": "stream",
          "name": "stderr",
          "text": [
            "WARNING:langchain_google_genai._function_utils:Key 'title' is not supported in schema, ignoring\n",
            "WARNING:langchain_google_genai._function_utils:Key 'title' is not supported in schema, ignoring\n",
            "WARNING:langchain_google_genai._function_utils:Key 'title' is not supported in schema, ignoring\n",
            "WARNING:langchain_google_genai._function_utils:Key 'title' is not supported in schema, ignoring\n"
          ]
        },
        {
          "output_type": "stream",
          "name": "stdout",
          "text": [
            "\u001b[32;1m\u001b[1;3mFile path: heart.py.\n",
            "\u001b[0m\n",
            "\n",
            "\u001b[1m> Finished chain.\u001b[0m\n",
            "\n",
            "\n",
            "\u001b[1m> Entering new AgentExecutor chain...\u001b[0m\n",
            "\u001b[32;1m\u001b[1;3m\n",
            "Invoking: `read_file_python` with `{'file_path': 'heart.py'}`\n",
            "\n",
            "\n",
            "\u001b[0m\u001b[33;1m\u001b[1;3mimport turtle\n",
            "\n",
            "pen = turtle.Turtle()\n",
            "\n",
            "pen.fillcolor('red')\n",
            "pen.begin_fill()\n",
            "pen.left(140)\n",
            "pen.forward(180)\n",
            "pen.circle(-90, 200)\n",
            "pen.setheading(60)\n",
            "pen.circle(-90, 200)\n",
            "pen.forward(180)\n",
            "pen.end_fill()\n",
            "\n",
            "pen.hideturtle()\n",
            "\n",
            "turtle.done()\n",
            "\u001b[0m\u001b[32;1m\u001b[1;3m\n",
            "Invoking: `run_command` with `{'command': 'pip install PythonTurtle'}`\n",
            "\n",
            "\n",
            "\u001b[0m\u001b[36;1m\u001b[1;3m\n",
            "Usage:   \n",
            "  pip3 <command> [options]\n",
            "\n",
            "Commands:\n",
            "  install                     Install packages.\n",
            "  download                    Download packages.\n",
            "  uninstall                   Uninstall packages.\n",
            "  freeze                      Output installed packages in requirements format.\n",
            "  inspect                     Inspect the python environment.\n",
            "  list                        List installed packages.\n",
            "  show                        Show information about installed packages.\n",
            "  check                       Verify installed packages have compatible dependencies.\n",
            "  config                      Manage local and global configuration.\n",
            "  search                      Search PyPI for packages.\n",
            "  cache                       Inspect and manage pip's wheel cache.\n",
            "  index                       Inspect information available from package indexes.\n",
            "  wheel                       Build wheels from your requirements.\n",
            "  hash                        Compute hashes of package archives.\n",
            "  completion                  A helper command used for command completion.\n",
            "  debug                       Show information useful for debugging.\n",
            "  help                        Show help for commands.\n",
            "\n",
            "General Options:\n",
            "  -h, --help                  Show help.\n",
            "  --debug                     Let unhandled exceptions propagate outside the main subroutine,\n",
            "                              instead of logging them to stderr.\n",
            "  --isolated                  Run pip in an isolated mode, ignoring environment variables and user\n",
            "                              configuration.\n",
            "  --require-virtualenv        Allow pip to only run in a virtual environment; exit with an error\n",
            "                              otherwise.\n",
            "  --python <python>           Run pip with the specified Python interpreter.\n",
            "  -v, --verbose               Give more output. Option is additive, and can be used up to 3 times.\n",
            "  -V, --version               Show version and exit.\n",
            "  -q, --quiet                 Give less output. Option is additive, and can be used up to 3 times\n",
            "                              (corresponding to WARNING, ERROR, and CRITICAL logging levels).\n",
            "  --log <path>                Path to a verbose appending log.\n",
            "  --no-input                  Disable prompting for input.\n",
            "  --keyring-provider <keyring_provider>\n",
            "                              Enable the credential lookup via the keyring library if user input\n",
            "                              is allowed. Specify which mechanism to use [disabled, import,\n",
            "                              subprocess]. (default: disabled)\n",
            "  --proxy <proxy>             Specify a proxy in the form\n",
            "                              scheme://[user:passwd@]proxy.server:port.\n",
            "  --retries <retries>         Maximum number of retries each connection should attempt (default 5\n",
            "                              times).\n",
            "  --timeout <sec>             Set the socket timeout (default 15 seconds).\n",
            "  --exists-action <action>    Default action when a path already exists: (s)witch, (i)gnore,\n",
            "                              (w)ipe, (b)ackup, (a)bort.\n",
            "  --trusted-host <hostname>   Mark this host or host:port pair as trusted, even though it does not\n",
            "                              have valid or any HTTPS.\n",
            "  --cert <path>               Path to PEM-encoded CA certificate bundle. If provided, overrides\n",
            "                              the default. See 'SSL Certificate Verification' in pip documentation\n",
            "                              for more information.\n",
            "  --client-cert <path>        Path to SSL client certificate, a single file containing the private\n",
            "                              key and the certificate in PEM format.\n",
            "  --cache-dir <dir>           Store the cache data in <dir>.\n",
            "  --no-cache-dir              Disable the cache.\n",
            "  --disable-pip-version-check\n",
            "                              Don't periodically check PyPI to determine whether a new version of\n",
            "                              pip is available for download. Implied with --no-index.\n",
            "  --no-color                  Suppress colored output.\n",
            "  --no-python-version-warning\n",
            "                              Silence deprecation warnings for upcoming unsupported Pythons.\n",
            "  --use-feature <feature>     Enable new functionality, that may be backward incompatible.\n",
            "  --use-deprecated <feature>  Enable deprecated functionality, that will be removed in the future.\n",
            "\u001b[0m\u001b[32;1m\u001b[1;3m\n",
            "Invoking: `run_command` with `{'command': 'python heart.py'}`\n",
            "\n",
            "\n",
            "\u001b[0m\u001b[36;1m\u001b[1;3m\u001b[0m\u001b[32;1m\u001b[1;3mA heart shape was drawn on the screen using Python's Turtle graphics. If you ran the code locally, you would have seen a window pop up displaying the drawing.\n",
            "\u001b[0m\n",
            "\n",
            "\u001b[1m> Finished chain.\u001b[0m\n",
            "\n",
            "Generated Code:\n",
            " File path: heart.py.\n",
            "\n",
            "\n",
            "Execution Output:\n",
            " A heart shape was drawn on the screen using Python's Turtle graphics. If you ran the code locally, you would have seen a window pop up displaying the drawing.\n",
            "\n"
          ]
        }
      ]
    }
  ]
}